{
 "cells": [
  {
   "cell_type": "code",
   "execution_count": 2,
   "metadata": {},
   "outputs": [],
   "source": [
    "import findspark\n",
    "findspark.init()\n",
    "from pyspark.context import SparkContext\n",
    "from pyspark.sql.session import SparkSession\n",
    "from pyspark.sql.functions import *\n",
    "import pandas as pd\n",
    "import os"
   ]
  },
  {
   "cell_type": "code",
   "execution_count": 3,
   "metadata": {},
   "outputs": [],
   "source": [
    "spark = SparkSession.builder.config(\"spark.driver.memory\", \"8g\").config(\"spark.executor.cores\",8).getOrCreate()"
   ]
  },
  {
   "cell_type": "code",
   "execution_count": 4,
   "metadata": {},
   "outputs": [],
   "source": [
    "path='D:\\\\Project_Python_(DA-DE)\\\\DE_Project\\\\BigData\\\\Class_5\\\\OLAP_OUTPUT\\\\Data\\\\'"
   ]
  },
  {
   "cell_type": "code",
   "execution_count": 5,
   "metadata": {},
   "outputs": [],
   "source": [
    "list_path=os.listdir(path)\n"
   ]
  },
  {
   "cell_type": "code",
   "execution_count": null,
   "metadata": {},
   "outputs": [],
   "source": [
    "df=spark.read.json(path+list_path[0])\n",
    "for i in list_path[1:]:\n",
    "    save_path=i\n",
    "    read_path=spark.read.json(path+i)\n",
    "    df=df.union(read_path)\n",
    "    print('Successfully Processing {}'.format(i))\n",
    "print('----Done----')"
   ]
  },
  {
   "cell_type": "code",
   "execution_count": null,
   "metadata": {},
   "outputs": [],
   "source": [
    "df.show()"
   ]
  },
  {
   "cell_type": "code",
   "execution_count": null,
   "metadata": {},
   "outputs": [],
   "source": [
    "processing=df.select(\"_source.*\")"
   ]
  },
  {
   "cell_type": "code",
   "execution_count": null,
   "metadata": {},
   "outputs": [],
   "source": [
    "processing.select('AppName').distinct().collect()"
   ]
  },
  {
   "cell_type": "code",
   "execution_count": null,
   "metadata": {},
   "outputs": [],
   "source": [
    "processing=processing.withColumn('Type',\n",
    "                      when ((col('AppName')=='CHANNEL') | (col('AppName')=='KPLUS')| (col('AppName')=='KPlus'),\"Truyen Hinh\")\n",
    "                      .when((col(\"AppName\") == 'VOD') | (col(\"AppName\") =='FIMS_RES')| (col(\"AppName\") =='BHD_RES')| \n",
    "              (col(\"AppName\") =='VOD_RES')| (col(\"AppName\") =='FIMS')| (col(\"AppName\") =='BHD')| (col(\"AppName\") =='DANET'), \"Phim Truyen\")\n",
    "        .when((col(\"AppName\") == 'RELAX'), \"Giai Tri\")\n",
    "        .when((col(\"AppName\") == 'CHILD'), \"Thieu Nhi\")\n",
    "        .when((col(\"AppName\") == 'SPORT'), \"The Thao\")\n",
    "        .otherwise(\"Error\")\n",
    ")\n"
   ]
  },
  {
   "cell_type": "code",
   "execution_count": null,
   "metadata": {},
   "outputs": [],
   "source": [
    "processing.show()"
   ]
  },
  {
   "cell_type": "code",
   "execution_count": null,
   "metadata": {},
   "outputs": [],
   "source": [
    "processing=processing.select('Contract','Type','TotalDuration')"
   ]
  },
  {
   "cell_type": "code",
   "execution_count": null,
   "metadata": {},
   "outputs": [],
   "source": [
    "processing=processing.filter(processing.Type != 'Error')"
   ]
  },
  {
   "cell_type": "code",
   "execution_count": null,
   "metadata": {},
   "outputs": [],
   "source": [
    "# ETL\n",
    "\n",
    "processing=processing.groupBy('Contract','Type').sum('TotalDuration')"
   ]
  },
  {
   "cell_type": "code",
   "execution_count": null,
   "metadata": {},
   "outputs": [],
   "source": [
    "processing.show()"
   ]
  },
  {
   "cell_type": "code",
   "execution_count": null,
   "metadata": {},
   "outputs": [],
   "source": [
    "processing=processing.withColumnRenamed('sum(TotalDuration)','TotalDuration')"
   ]
  },
  {
   "cell_type": "code",
   "execution_count": null,
   "metadata": {},
   "outputs": [],
   "source": [
    "processing=processing.groupBy('Contract').pivot('Type').sum('TotalDuration')"
   ]
  },
  {
   "cell_type": "code",
   "execution_count": null,
   "metadata": {},
   "outputs": [],
   "source": [
    "processing=processing.na.fill(0)"
   ]
  },
  {
   "cell_type": "code",
   "execution_count": null,
   "metadata": {},
   "outputs": [],
   "source": [
    "processing.show()"
   ]
  },
  {
   "cell_type": "markdown",
   "metadata": {},
   "source": [
    "# Output_Processing_continue"
   ]
  },
  {
   "cell_type": "markdown",
   "metadata": {},
   "source": [
    "## Most_Watch"
   ]
  },
  {
   "cell_type": "code",
   "execution_count": null,
   "metadata": {},
   "outputs": [],
   "source": [
    "processing=processing.withColumn(\"MostWatch\",greatest(col(\"Giai Tri\"),col(\"Phim Truyen\"),col(\"The Thao\"),col(\"Thieu Nhi\"),col(\"Truyen Hinh\"),col(\"Giai Tri\")))"
   ]
  },
  {
   "cell_type": "code",
   "execution_count": null,
   "metadata": {},
   "outputs": [],
   "source": [
    "processing.drop('MostWacth')"
   ]
  },
  {
   "cell_type": "code",
   "execution_count": null,
   "metadata": {},
   "outputs": [],
   "source": [
    "processing=processing.withColumn('MostWatch',\n",
    "                    when(col('MostWatch')==col('Truyen Hinh'),'Truyen Hinh')\n",
    "                    .when(col('MostWatch')==col('Thieu Nhi'),'Thieu Nhi')\n",
    "                    .when(col('MostWatch')==col('The Thao'),'The Thao')\n",
    "                    .when(col('MostWatch')==col('Phim Truyen'),'Phim Truyen')\n",
    "                    .when(col('MostWatch')==col('Giai Tri'),'Giai Tri')\n",
    ")"
   ]
  },
  {
   "cell_type": "markdown",
   "metadata": {},
   "source": [
    "## Customer_Taste"
   ]
  },
  {
   "cell_type": "code",
   "execution_count": null,
   "metadata": {},
   "outputs": [],
   "source": [
    "processing=processing.withColumn(\"Taste\",concat_ws(\"-\",\n",
    "                                    when(col(\"Giai Tri\").isNotNull(),lit(\"Giai Tri\"))\n",
    "                                    ,when(col(\"Phim Truyen\").isNotNull(),lit(\"Phim Truyen\"))\n",
    "                                    ,when(col(\"The Thao\").isNotNull(),lit(\"The Thao\"))\n",
    "                                    ,when(col(\"Thieu Nhi\").isNotNull(),lit(\"Thieu Nhi\"))\n",
    "                                    ,when(col(\"Truyen Hinh\").isNotNull(),lit(\"Truyen Hinh\"))))"
   ]
  },
  {
   "cell_type": "markdown",
   "metadata": {},
   "source": [
    "## ActiveNess"
   ]
  },
  {
   "cell_type": "code",
   "execution_count": 6,
   "metadata": {},
   "outputs": [
    {
     "name": "stdout",
     "output_type": "stream",
     "text": [
      "Successfully Processing 20220402.json\n",
      "Successfully Processing 20220403.json\n",
      "Successfully Processing 20220404.json\n",
      "Successfully Processing 20220405.json\n",
      "Successfully Processing 20220406.json\n",
      "Successfully Processing 20220407.json\n",
      "Successfully Processing 20220408.json\n",
      "Successfully Processing 20220409.json\n",
      "Successfully Processing 20220410.json\n",
      "Successfully Processing 20220411.json\n",
      "Successfully Processing 20220412.json\n",
      "Successfully Processing 20220413.json\n",
      "Successfully Processing 20220414.json\n",
      "Successfully Processing 20220415.json\n",
      "Successfully Processing 20220416.json\n",
      "Successfully Processing 20220417.json\n",
      "Successfully Processing 20220418.json\n",
      "Successfully Processing 20220419.json\n",
      "Successfully Processing 20220420.json\n",
      "Successfully Processing 20220421.json\n",
      "Successfully Processing 20220422.json\n",
      "Successfully Processing 20220423.json\n",
      "Successfully Processing 20220424.json\n",
      "Successfully Processing 20220425.json\n",
      "Successfully Processing 20220426.json\n",
      "Successfully Processing 20220427.json\n",
      "Successfully Processing 20220428.json\n",
      "Successfully Processing 20220429.json\n",
      "Successfully Processing 20220430.json\n",
      "------------Done------------------\n"
     ]
    }
   ],
   "source": [
    "df=spark.read.json(path+list_path[0])\n",
    "df=df.withColumn(\"Path\",\n",
    "              lit(\"{}\".format(list_path[0])))\n",
    "df=df.withColumn(\"Date\", split(\"Path\", \".json\").getItem(0))\n",
    "for i in list_path[1:]:\n",
    "    save_path=i\n",
    "    read_path=spark.read.json(path+save_path)\n",
    "    read_path=read_path.withColumn(\"Path\", \n",
    "                                   lit(\"{}\".format([save_path])))\n",
    "    read_path=read_path.withColumn(\"Date\", split('Path', \".json\").getItem(0))\n",
    "    df=df.union(read_path)\n",
    "    print('Successfully Processing {}'.format(i))\n",
    "df=df.drop(\"Path\")  \n",
    "\n",
    "print('------------Done------------------')\n"
   ]
  },
  {
   "cell_type": "code",
   "execution_count": 7,
   "metadata": {},
   "outputs": [],
   "source": [
    "from pyspark.sql.window import Window"
   ]
  },
  {
   "cell_type": "code",
   "execution_count": 17,
   "metadata": {},
   "outputs": [],
   "source": [
    "activeness=df.select('_source.*','Date')"
   ]
  },
  {
   "cell_type": "code",
   "execution_count": 18,
   "metadata": {},
   "outputs": [],
   "source": [
    "window=Window.partitionBy(\"Contract\")"
   ]
  },
  {
   "cell_type": "code",
   "execution_count": 19,
   "metadata": {},
   "outputs": [],
   "source": [
    "activeness=activeness.withColumn(\"Active\",size(collect_set(\"Date\").over(window)))"
   ]
  },
  {
   "cell_type": "code",
   "execution_count": 20,
   "metadata": {},
   "outputs": [
    {
     "data": {
      "text/plain": [
       "DataFrame[AppName: string, Contract: string, Mac: string, TotalDuration: bigint, Date: string, Active: int]"
      ]
     },
     "execution_count": 20,
     "metadata": {},
     "output_type": "execute_result"
    }
   ],
   "source": [
    "activeness"
   ]
  },
  {
   "cell_type": "code",
   "execution_count": 21,
   "metadata": {},
   "outputs": [],
   "source": [
    "activeness=activeness.withColumn(\"Activeness\",\n",
    "                      when(col('Active')>=15,\"High Active\")\n",
    "                      .otherwise(\"Low Active\")\n",
    ")"
   ]
  },
  {
   "cell_type": "code",
   "execution_count": 37,
   "metadata": {},
   "outputs": [],
   "source": [
    "distinct_activeness = activeness.dropDuplicates([\"Contract\", \"Activeness\"])\n"
   ]
  },
  {
   "cell_type": "code",
   "execution_count": 39,
   "metadata": {},
   "outputs": [
    {
     "name": "stdout",
     "output_type": "stream",
     "text": [
      "+-------+--------------+------------+-------------+----------+------+-----------+\n",
      "|AppName|      Contract|         Mac|TotalDuration|      Date|Active| Activeness|\n",
      "+-------+--------------+------------+-------------+----------+------+-----------+\n",
      "|CHANNEL|113.182.209.48|B046FCA97B6A|           20|  20220401|     1| Low Active|\n",
      "|CHANNEL|14.182.110.125|B84DEED3BD63|          404|['20220410|     1| Low Active|\n",
      "|CHANNEL|     AGAAA0338|10394E3D6E3C|         8895|  20220401|    30|High Active|\n",
      "|CHANNEL|     AGAAA0342|10394E3D7A67|           44|  20220401|    12| Low Active|\n",
      "|CHANNEL|     AGAAA0391|10394E3D6E9F|        29102|['20220402|    11| Low Active|\n",
      "|CHANNEL|     AGAAA0613|10394E3D6DBF|           83|  20220401|    24|High Active|\n",
      "|CHANNEL|     AGAAA0638|10394E3D6F2C|          382|  20220401|    30|High Active|\n",
      "|CHANNEL|     AGAAA0692|10394E3D8C74|        14551|['20220406|     8| Low Active|\n",
      "|CHANNEL|     AGAAA0723|10394E3D84FF|           27|  20220401|    19|High Active|\n",
      "|CHANNEL|     AGAAA0729|10394E3D6D12|          261|['20220406|     3| Low Active|\n",
      "|CHANNEL|     AGAAA0732|10394E3D8C73|           13|  20220401|    23|High Active|\n",
      "|CHANNEL|     AGAAA0750|10394E3D6D11|           77|  20220401|    25|High Active|\n",
      "|CHANNEL|     AGAAA0848|10394E3D87D5|           41|  20220401|    25|High Active|\n",
      "|CHANNEL|     AGAAA0885|10394E3D6EEE|         6535|  20220401|    20|High Active|\n",
      "|CHANNEL|     AGAAA0901|10394E3D6EE4|        28235|  20220401|    30|High Active|\n",
      "|CHANNEL|     AGAAA1047|10394E3D8BB1|           23|  20220401|    30|High Active|\n",
      "|  RELAX|     AGAAA1147|10394E4B16C4|          103|['20220402|    23|High Active|\n",
      "|CHANNEL|     AGAAA1218|10394E3D7951|           11|['20220405|     9| Low Active|\n",
      "|  CHILD|     AGAAA1282|10394E400A7A|          427|['20220404|     6| Low Active|\n",
      "|CHANNEL|     AGAAA1316|10394E4B278E|         3890|  20220401|    29|High Active|\n",
      "+-------+--------------+------------+-------------+----------+------+-----------+\n",
      "only showing top 20 rows\n",
      "\n"
     ]
    }
   ],
   "source": [
    "distinct_activeness.show()"
   ]
  }
 ],
 "metadata": {
  "kernelspec": {
   "display_name": "Python 3",
   "language": "python",
   "name": "python3"
  },
  "language_info": {
   "codemirror_mode": {
    "name": "ipython",
    "version": 3
   },
   "file_extension": ".py",
   "mimetype": "text/x-python",
   "name": "python",
   "nbconvert_exporter": "python",
   "pygments_lexer": "ipython3",
   "version": "3.8.10"
  }
 },
 "nbformat": 4,
 "nbformat_minor": 2
}
